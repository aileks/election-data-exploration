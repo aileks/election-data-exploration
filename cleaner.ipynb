{
 "cells": [
  {
   "cell_type": "code",
   "id": "initial_id",
   "metadata": {
    "collapsed": true,
    "ExecuteTime": {
     "end_time": "2024-11-07T21:46:39.920624Z",
     "start_time": "2024-11-07T21:46:39.856460Z"
    }
   },
   "source": [
    "import pandas as pd\n",
    "\n",
    "df = pd.read_csv(\"data/polling_data.csv\")"
   ],
   "outputs": [],
   "execution_count": 37
  },
  {
   "metadata": {
    "ExecuteTime": {
     "end_time": "2024-11-07T21:46:39.944532Z",
     "start_time": "2024-11-07T21:46:39.925948Z"
    }
   },
   "cell_type": "code",
   "source": "df.info()",
   "id": "4c7dcd56b2d5f920",
   "outputs": [
    {
     "name": "stdout",
     "output_type": "stream",
     "text": [
      "<class 'pandas.core.frame.DataFrame'>\n",
      "RangeIndex: 18095 entries, 0 to 18094\n",
      "Data columns (total 52 columns):\n",
      " #   Column                     Non-Null Count  Dtype  \n",
      "---  ------                     --------------  -----  \n",
      " 0   poll_id                    18095 non-null  int64  \n",
      " 1   pollster_id                18095 non-null  int64  \n",
      " 2   pollster                   18095 non-null  object \n",
      " 3   sponsor_ids                8482 non-null   object \n",
      " 4   sponsors                   8482 non-null   object \n",
      " 5   display_name               18095 non-null  object \n",
      " 6   pollster_rating_id         18095 non-null  int64  \n",
      " 7   pollster_rating_name       18095 non-null  object \n",
      " 8   numeric_grade              15901 non-null  float64\n",
      " 9   pollscore                  15915 non-null  float64\n",
      " 10  methodology                16995 non-null  object \n",
      " 11  transparency_score         14886 non-null  float64\n",
      " 12  state                      10071 non-null  object \n",
      " 13  start_date                 18095 non-null  object \n",
      " 14  end_date                   18095 non-null  object \n",
      " 15  sponsor_candidate_id       333 non-null    float64\n",
      " 16  sponsor_candidate          333 non-null    object \n",
      " 17  sponsor_candidate_party    333 non-null    object \n",
      " 18  endorsed_candidate_id      0 non-null      float64\n",
      " 19  endorsed_candidate_name    0 non-null      float64\n",
      " 20  endorsed_candidate_party   0 non-null      float64\n",
      " 21  question_id                18095 non-null  int64  \n",
      " 22  sample_size                17944 non-null  float64\n",
      " 23  population                 18091 non-null  object \n",
      " 24  subpopulation              0 non-null      float64\n",
      " 25  population_full            18091 non-null  object \n",
      " 26  tracking                   1618 non-null   object \n",
      " 27  created_at                 18095 non-null  object \n",
      " 28  notes                      282 non-null    object \n",
      " 29  url                        18089 non-null  object \n",
      " 30  url_article                14256 non-null  object \n",
      " 31  url_topline                6822 non-null   object \n",
      " 32  url_crosstab               9814 non-null   object \n",
      " 33  source                     201 non-null    float64\n",
      " 34  internal                   2857 non-null   object \n",
      " 35  partisan                   1471 non-null   object \n",
      " 36  race_id                    18095 non-null  int64  \n",
      " 37  cycle                      18095 non-null  int64  \n",
      " 38  office_type                18095 non-null  object \n",
      " 39  seat_number                18095 non-null  int64  \n",
      " 40  seat_name                  0 non-null      float64\n",
      " 41  election_date              18095 non-null  object \n",
      " 42  stage                      18095 non-null  object \n",
      " 43  nationwide_batch           18095 non-null  bool   \n",
      " 44  ranked_choice_reallocated  18095 non-null  bool   \n",
      " 45  ranked_choice_round        39 non-null     float64\n",
      " 46  hypothetical               18095 non-null  bool   \n",
      " 47  party                      18095 non-null  object \n",
      " 48  answer                     18095 non-null  object \n",
      " 49  candidate_id               18095 non-null  int64  \n",
      " 50  candidate_name             18095 non-null  object \n",
      " 51  pct                        18095 non-null  float64\n",
      "dtypes: bool(3), float64(13), int64(8), object(28)\n",
      "memory usage: 6.8+ MB\n"
     ]
    }
   ],
   "execution_count": 38
  },
  {
   "metadata": {
    "ExecuteTime": {
     "end_time": "2024-11-07T21:49:46.176767Z",
     "start_time": "2024-11-07T21:49:46.167093Z"
    }
   },
   "cell_type": "code",
   "source": [
    "# Copy original data for cleaning\n",
    "battleground_states = ['Georgia', 'North Carolina', 'Pennsylvania', 'Michigan', 'Wisconsin', 'Nevada', 'Arizona']\n",
    "mask = (\n",
    "        (df[\"answer\"].isin([\"Trump\", \"Harris\"])) &\n",
    "        (df['state'].isin(battleground_states))\n",
    ")\n",
    "clean_data = df[mask].copy()\n",
    "clean_data.info()"
   ],
   "id": "887da6356eda9f9a",
   "outputs": [
    {
     "name": "stdout",
     "output_type": "stream",
     "text": [
      "<class 'pandas.core.frame.DataFrame'>\n",
      "Index: 3331 entries, 7 to 18060\n",
      "Data columns (total 4 columns):\n",
      " #   Column          Non-Null Count  Dtype  \n",
      "---  ------          --------------  -----  \n",
      " 0   state           3331 non-null   object \n",
      " 1   answer          3331 non-null   object \n",
      " 2   candidate_name  3331 non-null   object \n",
      " 3   pct             3331 non-null   float64\n",
      "dtypes: float64(1), object(3)\n",
      "memory usage: 130.1+ KB\n"
     ]
    }
   ],
   "execution_count": 41
  },
  {
   "metadata": {
    "ExecuteTime": {
     "end_time": "2024-11-07T21:46:40.136646Z",
     "start_time": "2024-11-07T21:46:40.133192Z"
    }
   },
   "cell_type": "code",
   "source": [
    "# Extract only relevant states\n",
    "clean_data[\"state\"]"
   ],
   "id": "f3798d4e8cfc262e",
   "outputs": [
    {
     "data": {
      "text/plain": [
       "7             Arizona\n",
       "8             Arizona\n",
       "11            Arizona\n",
       "12            Arizona\n",
       "13            Georgia\n",
       "             ...     \n",
       "17953        Michigan\n",
       "17955    Pennsylvania\n",
       "17957       Wisconsin\n",
       "17977       Wisconsin\n",
       "18060         Arizona\n",
       "Name: state, Length: 3331, dtype: object"
      ]
     },
     "execution_count": 40,
     "metadata": {},
     "output_type": "execute_result"
    }
   ],
   "execution_count": 40
  }
 ],
 "metadata": {
  "kernelspec": {
   "display_name": "Python 3",
   "language": "python",
   "name": "python3"
  },
  "language_info": {
   "codemirror_mode": {
    "name": "ipython",
    "version": 2
   },
   "file_extension": ".py",
   "mimetype": "text/x-python",
   "name": "python",
   "nbconvert_exporter": "python",
   "pygments_lexer": "ipython2",
   "version": "2.7.6"
  }
 },
 "nbformat": 4,
 "nbformat_minor": 5
}
